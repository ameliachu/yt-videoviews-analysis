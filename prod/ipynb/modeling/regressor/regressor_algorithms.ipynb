{
 "cells": [
  {
   "cell_type": "markdown",
   "metadata": {},
   "source": [
    "#### Predicting with Regressor Algorithms\n",
    "\n",
    "Refering to [choosing the right estimator](https://scikit-learn.org/stable/tutorial/machine_learning_map/index.html)\n",
    "I now suspect labeling into three classes, low performer (below 100K), normal, viral(>5m, in 3-5 day) is the best route for this use case...\n",
    "\n",
    "Accuracy is not a good measure for regressor"
   ]
  },
  {
   "cell_type": "markdown",
   "metadata": {},
   "source": [
    "Importing Libraries"
   ]
  },
  {
   "cell_type": "code",
   "execution_count": 1,
   "metadata": {
    "collapsed": true
   },
   "outputs": [],
   "source": [
    "import pandas as pd\n",
    "import numpy as np\n",
    "import matplotlib.pyplot as plt\n",
    "import seaborn as sns\n",
    "\n",
    "from sklearn.linear_model import LinearRegression, Lasso, ElasticNet, Ridge\n",
    "from sklearn.ensemble import RandomForestRegressor\n",
    "from sklearn.svm import SVR\n",
    "from sklearn.model_selection import train_test_split, KFold, cross_val_score\n",
    "from sklearn.metrics import accuracy_score, mean_squared_error, r2_score"
   ]
  },
  {
   "cell_type": "markdown",
   "metadata": {},
   "source": [
    "Loading in Data"
   ]
  },
  {
   "cell_type": "code",
   "execution_count": 2,
   "metadata": {
    "collapsed": true
   },
   "outputs": [],
   "source": [
    "data_csv_fname = \"../../data/finalized_bzfd_data.csv\"\n",
    "bzfd_df = pd.read_csv(data_csv_fname, sep=',', index_col=0).dropna()\n",
    "\n",
    "Y = bzfd_df['logViewCount']\n",
    "X = bzfd_df.iloc[:,20:-1]"
   ]
  },
  {
   "cell_type": "markdown",
   "metadata": {},
   "source": [
    "Splitting into Training/Test Data"
   ]
  },
  {
   "cell_type": "code",
   "execution_count": 3,
   "metadata": {
    "collapsed": true
   },
   "outputs": [],
   "source": [
    "X_train, X_test, Y_train, Y_test = train_test_split(X, Y, test_size=0.2, random_state=519)"
   ]
  },
  {
   "cell_type": "code",
   "execution_count": 4,
   "metadata": {
    "collapsed": true
   },
   "outputs": [],
   "source": [
    "def RegressorMetrics (X_train, Y_train, X_test, Y_test, fitted_model):\n",
    "    Y_pred = fitted_model.predict(X_test)\n",
    "    train_accuracy = fitted_model.score(X_train, Y_train)\n",
    "    test_accuracy = fitted_model.score(X_test, Y_test)\n",
    "    test_mse = mean_squared_error(Y_test, Y_pred)\n",
    "    test_r2 = r2_score(Y_test, Y_pred)\n",
    "    return train_accuracy, test_accuracy, test_mse, test_r2"
   ]
  },
  {
   "cell_type": "markdown",
   "metadata": {},
   "source": [
    "Baseline Model: **Linear Regression**"
   ]
  },
  {
   "cell_type": "code",
   "execution_count": 5,
   "metadata": {},
   "outputs": [
    {
     "name": "stderr",
     "output_type": "stream",
     "text": [
      "/Users/chuamelia/anaconda/envs/py35/lib/python3.6/site-packages/scipy/linalg/basic.py:1226: RuntimeWarning: internal gelsd driver lwork query error, required iwork dimension not returned. This is likely the result of LAPACK bug 0038, fixed in LAPACK 3.2.2 (released July 21, 2010). Falling back to 'gelss' driver.\n",
      "  warnings.warn(mesg, RuntimeWarning)\n"
     ]
    }
   ],
   "source": [
    "baseline_model = LinearRegression()\n",
    "fitted_baseline = baseline_model.fit(X_train, Y_train)"
   ]
  },
  {
   "cell_type": "code",
   "execution_count": 6,
   "metadata": {},
   "outputs": [
    {
     "name": "stdout",
     "output_type": "stream",
     "text": [
      "(0.2285781482683532, 0.1837080687485243, 1.3132794915567256, 0.1837080687485243)\n"
     ]
    }
   ],
   "source": [
    "print(RegressorMetrics(X_train, Y_train, X_test, Y_test, fitted_baseline))"
   ]
  },
  {
   "cell_type": "markdown",
   "metadata": {},
   "source": [
    "#### Lasso"
   ]
  },
  {
   "cell_type": "code",
   "execution_count": 7,
   "metadata": {
    "collapsed": true
   },
   "outputs": [],
   "source": [
    "lasso_results = []\n",
    "alphas = list(set([10**i for i in range(-8,-1)] + [0.01 * i for i in range(11)]))\n",
    "for a in alphas:\n",
    "    if a != 0:\n",
    "        params = {'alpha': a, 'random_state':519}\n",
    "        model = Lasso(**params)\n",
    "        fitted_model = model.fit(X_train, Y_train)\n",
    "        train_accuracy, test_accuracy, test_mse, test_r2 = RegressorMetrics(X_train, Y_train, X_test, Y_test,  fitted_model)\n",
    "        results = ('Lasso',a,train_accuracy, test_accuracy, test_mse, test_r2)\n",
    "        lasso_results.append(results)"
   ]
  },
  {
   "cell_type": "code",
   "execution_count": 8,
   "metadata": {
    "scrolled": true
   },
   "outputs": [
    {
     "data": {
      "text/html": [
       "<div>\n",
       "<style scoped>\n",
       "    .dataframe tbody tr th:only-of-type {\n",
       "        vertical-align: middle;\n",
       "    }\n",
       "\n",
       "    .dataframe tbody tr th {\n",
       "        vertical-align: top;\n",
       "    }\n",
       "\n",
       "    .dataframe thead th {\n",
       "        text-align: right;\n",
       "    }\n",
       "</style>\n",
       "<table border=\"1\" class=\"dataframe\">\n",
       "  <thead>\n",
       "    <tr style=\"text-align: right;\">\n",
       "      <th></th>\n",
       "      <th>model</th>\n",
       "      <th>alpha</th>\n",
       "      <th>train_accuracy</th>\n",
       "      <th>test_accuracy</th>\n",
       "      <th>mse</th>\n",
       "      <th>r2</th>\n",
       "    </tr>\n",
       "  </thead>\n",
       "  <tbody>\n",
       "    <tr>\n",
       "      <th>15</th>\n",
       "      <td>Lasso</td>\n",
       "      <td>1.000000e-03</td>\n",
       "      <td>0.224764</td>\n",
       "      <td>0.188670</td>\n",
       "      <td>1.305296</td>\n",
       "      <td>0.188670</td>\n",
       "    </tr>\n",
       "    <tr>\n",
       "      <th>10</th>\n",
       "      <td>Lasso</td>\n",
       "      <td>1.000000e-04</td>\n",
       "      <td>0.228530</td>\n",
       "      <td>0.184616</td>\n",
       "      <td>1.311819</td>\n",
       "      <td>0.184616</td>\n",
       "    </tr>\n",
       "    <tr>\n",
       "      <th>7</th>\n",
       "      <td>Lasso</td>\n",
       "      <td>1.000000e-05</td>\n",
       "      <td>0.228578</td>\n",
       "      <td>0.183806</td>\n",
       "      <td>1.313122</td>\n",
       "      <td>0.183806</td>\n",
       "    </tr>\n",
       "    <tr>\n",
       "      <th>14</th>\n",
       "      <td>Lasso</td>\n",
       "      <td>1.000000e-06</td>\n",
       "      <td>0.228578</td>\n",
       "      <td>0.183718</td>\n",
       "      <td>1.313264</td>\n",
       "      <td>0.183718</td>\n",
       "    </tr>\n",
       "    <tr>\n",
       "      <th>13</th>\n",
       "      <td>Lasso</td>\n",
       "      <td>1.000000e-07</td>\n",
       "      <td>0.228578</td>\n",
       "      <td>0.183709</td>\n",
       "      <td>1.313278</td>\n",
       "      <td>0.183709</td>\n",
       "    </tr>\n",
       "  </tbody>\n",
       "</table>\n",
       "</div>"
      ],
      "text/plain": [
       "    model         alpha  train_accuracy  test_accuracy       mse        r2\n",
       "15  Lasso  1.000000e-03        0.224764       0.188670  1.305296  0.188670\n",
       "10  Lasso  1.000000e-04        0.228530       0.184616  1.311819  0.184616\n",
       "7   Lasso  1.000000e-05        0.228578       0.183806  1.313122  0.183806\n",
       "14  Lasso  1.000000e-06        0.228578       0.183718  1.313264  0.183718\n",
       "13  Lasso  1.000000e-07        0.228578       0.183709  1.313278  0.183709"
      ]
     },
     "execution_count": 8,
     "metadata": {},
     "output_type": "execute_result"
    }
   ],
   "source": [
    "lasso_pd = pd.DataFrame(lasso_results, columns = ['model','alpha','train_accuracy', 'test_accuracy','mse','r2'])\n",
    "lasso_pd.sort_values(by='r2',ascending=False).head(5)"
   ]
  },
  {
   "cell_type": "code",
   "execution_count": 9,
   "metadata": {},
   "outputs": [
    {
     "data": {
      "text/plain": [
       "Text(0.5, 1.0, 'Model r2 by \\nC & kernel')"
      ]
     },
     "execution_count": 9,
     "metadata": {},
     "output_type": "execute_result"
    },
    {
     "data": {
      "image/png": "[encoded data removed]",
      "text/plain": [
       "<Figure size 576x360 with 1 Axes>"
      ]
     },
     "metadata": {},
     "output_type": "display_data"
    }
   ],
   "source": [
    "%matplotlib inline\n",
    "sns.set_style(\"whitegrid\")\n",
    "sns.set_context(\"paper\")\n",
    "plt.figure(figsize=(8, 5))\n",
    "\n",
    "sns.lineplot(x='alpha', y='r2', data = lasso_pd   )\\\n",
    ".set_title('Model r2 by \\nC & kernel')"
   ]
  },
  {
   "cell_type": "markdown",
   "metadata": {},
   "source": [
    "#### ElasticNet"
   ]
  },
  {
   "cell_type": "code",
   "execution_count": 10,
   "metadata": {
    "collapsed": true
   },
   "outputs": [],
   "source": [
    "en_results = []\n",
    "alphas = [round(0.001*i, 3 ) for i in range(1,50)]\n",
    "loss = [round(0.1 * i,2) for i in range(1,11)]\n",
    "for a in alphas:\n",
    "    for l in loss:\n",
    "        params = {'alpha': a, 'l1_ratio':l, 'random_state':519}\n",
    "        model = ElasticNet(**params)\n",
    "        fitted_model = model.fit(X_train, Y_train)\n",
    "        train_accuracy, test_accuracy, test_mse, test_r2 = RegressorMetrics(X_train, Y_train, X_test, Y_test,  fitted_model)\n",
    "        results = ('ElasticNet',a, l, train_accuracy, test_accuracy, test_mse, test_r2)\n",
    "        en_results.append(results)"
   ]
  },
  {
   "cell_type": "code",
   "execution_count": 11,
   "metadata": {},
   "outputs": [
    {
     "data": {
      "text/html": [
       "<div>\n",
       "<style scoped>\n",
       "    .dataframe tbody tr th:only-of-type {\n",
       "        vertical-align: middle;\n",
       "    }\n",
       "\n",
       "    .dataframe tbody tr th {\n",
       "        vertical-align: top;\n",
       "    }\n",
       "\n",
       "    .dataframe thead th {\n",
       "        text-align: right;\n",
       "    }\n",
       "</style>\n",
       "<table border=\"1\" class=\"dataframe\">\n",
       "  <thead>\n",
       "    <tr style=\"text-align: right;\">\n",
       "      <th></th>\n",
       "      <th>model</th>\n",
       "      <th>alpha</th>\n",
       "      <th>l1_ratio</th>\n",
       "      <th>train_accuracy</th>\n",
       "      <th>test_accuracy</th>\n",
       "      <th>mse</th>\n",
       "      <th>r2</th>\n",
       "    </tr>\n",
       "  </thead>\n",
       "  <tbody>\n",
       "    <tr>\n",
       "      <th>12</th>\n",
       "      <td>ElasticNet</td>\n",
       "      <td>0.002</td>\n",
       "      <td>0.3</td>\n",
       "      <td>0.224588</td>\n",
       "      <td>0.189208</td>\n",
       "      <td>1.304431</td>\n",
       "      <td>0.189208</td>\n",
       "    </tr>\n",
       "    <tr>\n",
       "      <th>13</th>\n",
       "      <td>ElasticNet</td>\n",
       "      <td>0.002</td>\n",
       "      <td>0.4</td>\n",
       "      <td>0.223766</td>\n",
       "      <td>0.189177</td>\n",
       "      <td>1.304480</td>\n",
       "      <td>0.189177</td>\n",
       "    </tr>\n",
       "    <tr>\n",
       "      <th>14</th>\n",
       "      <td>ElasticNet</td>\n",
       "      <td>0.002</td>\n",
       "      <td>0.5</td>\n",
       "      <td>0.222807</td>\n",
       "      <td>0.189175</td>\n",
       "      <td>1.304484</td>\n",
       "      <td>0.189175</td>\n",
       "    </tr>\n",
       "    <tr>\n",
       "      <th>20</th>\n",
       "      <td>ElasticNet</td>\n",
       "      <td>0.003</td>\n",
       "      <td>0.1</td>\n",
       "      <td>0.223734</td>\n",
       "      <td>0.189156</td>\n",
       "      <td>1.304515</td>\n",
       "      <td>0.189156</td>\n",
       "    </tr>\n",
       "    <tr>\n",
       "      <th>21</th>\n",
       "      <td>ElasticNet</td>\n",
       "      <td>0.003</td>\n",
       "      <td>0.2</td>\n",
       "      <td>0.222571</td>\n",
       "      <td>0.189141</td>\n",
       "      <td>1.304539</td>\n",
       "      <td>0.189141</td>\n",
       "    </tr>\n",
       "  </tbody>\n",
       "</table>\n",
       "</div>"
      ],
      "text/plain": [
       "         model  alpha  l1_ratio  train_accuracy  test_accuracy       mse  \\\n",
       "12  ElasticNet  0.002       0.3        0.224588       0.189208  1.304431   \n",
       "13  ElasticNet  0.002       0.4        0.223766       0.189177  1.304480   \n",
       "14  ElasticNet  0.002       0.5        0.222807       0.189175  1.304484   \n",
       "20  ElasticNet  0.003       0.1        0.223734       0.189156  1.304515   \n",
       "21  ElasticNet  0.003       0.2        0.222571       0.189141  1.304539   \n",
       "\n",
       "          r2  \n",
       "12  0.189208  \n",
       "13  0.189177  \n",
       "14  0.189175  \n",
       "20  0.189156  \n",
       "21  0.189141  "
      ]
     },
     "execution_count": 11,
     "metadata": {},
     "output_type": "execute_result"
    }
   ],
   "source": [
    "cols = ['model','alpha','l1_ratio','train_accuracy', 'test_accuracy','mse','r2']\n",
    "en_pd = pd.DataFrame(en_results, columns = cols )\n",
    "en_pd.sort_values(by='r2',ascending=False).head(5)"
   ]
  },
  {
   "cell_type": "code",
   "execution_count": 12,
   "metadata": {},
   "outputs": [
    {
     "data": {
      "text/plain": [
       "Text(0.5, 1.0, 'Model r2 by \\nC & kernel')"
      ]
     },
     "execution_count": 12,
     "metadata": {},
     "output_type": "execute_result"
    },
    {
     "data": {
      "image/png": "[encoded data removed]",
      "text/plain": [
       "<Figure size 576x360 with 1 Axes>"
      ]
     },
     "metadata": {},
     "output_type": "display_data"
    }
   ],
   "source": [
    "%matplotlib inline\n",
    "sns.set_style(\"whitegrid\")\n",
    "sns.set_context(\"paper\")\n",
    "plt.figure(figsize=(8, 5))\n",
    "\n",
    "sns.lineplot(x='alpha', y='r2', hue='l1_ratio', data = en_pd   )\\\n",
    ".set_title('Model r2 by \\nC & kernel')"
   ]
  },
  {
   "cell_type": "markdown",
   "metadata": {},
   "source": [
    "#### Ridge"
   ]
  },
  {
   "cell_type": "code",
   "execution_count": 13,
   "metadata": {
    "collapsed": true
   },
   "outputs": [],
   "source": [
    "ridge_results = []\n",
    "alphas = [round(0.1 * i, 2) for i in range(200)]\n",
    "for a in alphas:\n",
    "    if a != 0:\n",
    "        params = {'alpha': a, 'random_state':519}\n",
    "        model = Ridge(**params)\n",
    "        fitted_model = model.fit(X_train, Y_train)\n",
    "        train_accuracy, test_accuracy, test_mse, test_r2 = RegressorMetrics(X_train, Y_train, X_test, Y_test,  fitted_model)\n",
    "        results = ('Ridge',a,train_accuracy, test_accuracy, test_mse, test_r2)\n",
    "        ridge_results.append(results)"
   ]
  },
  {
   "cell_type": "code",
   "execution_count": 14,
   "metadata": {},
   "outputs": [
    {
     "data": {
      "text/html": [
       "<div>\n",
       "<style scoped>\n",
       "    .dataframe tbody tr th:only-of-type {\n",
       "        vertical-align: middle;\n",
       "    }\n",
       "\n",
       "    .dataframe tbody tr th {\n",
       "        vertical-align: top;\n",
       "    }\n",
       "\n",
       "    .dataframe thead th {\n",
       "        text-align: right;\n",
       "    }\n",
       "</style>\n",
       "<table border=\"1\" class=\"dataframe\">\n",
       "  <thead>\n",
       "    <tr style=\"text-align: right;\">\n",
       "      <th></th>\n",
       "      <th>model</th>\n",
       "      <th>alpha</th>\n",
       "      <th>train_accuracy</th>\n",
       "      <th>test_accuracy</th>\n",
       "      <th>mse</th>\n",
       "      <th>r2</th>\n",
       "    </tr>\n",
       "  </thead>\n",
       "  <tbody>\n",
       "    <tr>\n",
       "      <th>161</th>\n",
       "      <td>Ridge</td>\n",
       "      <td>16.2</td>\n",
       "      <td>0.224311</td>\n",
       "      <td>0.189137</td>\n",
       "      <td>1.304545</td>\n",
       "      <td>0.189137</td>\n",
       "    </tr>\n",
       "    <tr>\n",
       "      <th>162</th>\n",
       "      <td>Ridge</td>\n",
       "      <td>16.3</td>\n",
       "      <td>0.224274</td>\n",
       "      <td>0.189137</td>\n",
       "      <td>1.304545</td>\n",
       "      <td>0.189137</td>\n",
       "    </tr>\n",
       "    <tr>\n",
       "      <th>160</th>\n",
       "      <td>Ridge</td>\n",
       "      <td>16.1</td>\n",
       "      <td>0.224348</td>\n",
       "      <td>0.189137</td>\n",
       "      <td>1.304546</td>\n",
       "      <td>0.189137</td>\n",
       "    </tr>\n",
       "    <tr>\n",
       "      <th>163</th>\n",
       "      <td>Ridge</td>\n",
       "      <td>16.4</td>\n",
       "      <td>0.224237</td>\n",
       "      <td>0.189137</td>\n",
       "      <td>1.304546</td>\n",
       "      <td>0.189137</td>\n",
       "    </tr>\n",
       "    <tr>\n",
       "      <th>159</th>\n",
       "      <td>Ridge</td>\n",
       "      <td>16.0</td>\n",
       "      <td>0.224384</td>\n",
       "      <td>0.189136</td>\n",
       "      <td>1.304546</td>\n",
       "      <td>0.189136</td>\n",
       "    </tr>\n",
       "  </tbody>\n",
       "</table>\n",
       "</div>"
      ],
      "text/plain": [
       "     model  alpha  train_accuracy  test_accuracy       mse        r2\n",
       "161  Ridge   16.2        0.224311       0.189137  1.304545  0.189137\n",
       "162  Ridge   16.3        0.224274       0.189137  1.304545  0.189137\n",
       "160  Ridge   16.1        0.224348       0.189137  1.304546  0.189137\n",
       "163  Ridge   16.4        0.224237       0.189137  1.304546  0.189137\n",
       "159  Ridge   16.0        0.224384       0.189136  1.304546  0.189136"
      ]
     },
     "execution_count": 14,
     "metadata": {},
     "output_type": "execute_result"
    }
   ],
   "source": [
    "cols = ['model','alpha','train_accuracy', 'test_accuracy','mse','r2']\n",
    "ridge_pd = pd.DataFrame(ridge_results, columns = cols )\n",
    "ridge_pd.sort_values(by='r2',ascending=False).head(5)"
   ]
  },
  {
   "cell_type": "code",
   "execution_count": 15,
   "metadata": {},
   "outputs": [
    {
     "data": {
      "text/plain": [
       "Text(0.5, 1.0, 'Model r2 by \\nC & kernel')"
      ]
     },
     "execution_count": 15,
     "metadata": {},
     "output_type": "execute_result"
    },
    {
     "data": {
      "image/png": "[encoded data removed]",
      "text/plain": [
       "<Figure size 576x360 with 1 Axes>"
      ]
     },
     "metadata": {},
     "output_type": "display_data"
    }
   ],
   "source": [
    "%matplotlib inline\n",
    "sns.set_style(\"whitegrid\")\n",
    "sns.set_context(\"paper\")\n",
    "plt.figure(figsize=(8, 5))\n",
    "\n",
    "sns.lineplot(x='alpha', y='r2', data = ridge_pd   )\\\n",
    ".set_title('Model r2 by \\nC & kernel')"
   ]
  },
  {
   "cell_type": "markdown",
   "metadata": {},
   "source": [
    "#### Linear SVC\n",
    "\n",
    "Should try adjusting epsilon...\n"
   ]
  },
  {
   "cell_type": "code",
   "execution_count": 17,
   "metadata": {},
   "outputs": [
    {
     "name": "stdout",
     "output_type": "stream",
     "text": [
      "I'm making progress: 0.1\n",
      "I'm making progress: 0.2\n",
      "I'm making progress: 0.3\n",
      "I'm making progress: 0.4\n",
      "I'm making progress: 0.5\n",
      "I'm making progress: 0.6\n",
      "I'm making progress: 0.7\n",
      "I'm making progress: 0.8\n",
      "I'm making progress: 0.9\n",
      "I'm making progress: 1.0\n",
      "I'm making progress: 1.1\n",
      "I'm making progress: 1.2\n",
      "I'm making progress: 1.3\n",
      "I'm making progress: 1.4\n",
      "I'm making progress: 1.5\n",
      "I'm making progress: 1.6\n",
      "I'm making progress: 1.7\n",
      "I'm making progress: 1.8\n",
      "I'm making progress: 1.9\n",
      "I'm making progress: 2.0\n"
     ]
    }
   ],
   "source": [
    "degrees = [i for i in range(2,9)]\n",
    "cs = [round(0.1*i,2) for i in range(1,21)]\n",
    "lsvc_results = []\n",
    "for c in cs:\n",
    "    print(\"I'm making progress: \" + str(c))\n",
    "    if c != 0:\n",
    "        for d in degrees:\n",
    "            params = {'C':c, 'kernel':'linear', 'degree':d}\n",
    "            model = SVR(**params)\n",
    "            fitted_model = model.fit(X_train, Y_train)\n",
    "            train_accuracy, test_accuracy, test_mse, test_r2 = RegressorMetrics(X_train, Y_train, X_test, Y_test,  fitted_model)\n",
    "            results = ('LinearSVR', c, d, train_accuracy, test_accuracy, test_mse, test_r2)\n",
    "            lsvc_results.append(results)"
   ]
  },
  {
   "cell_type": "code",
   "execution_count": 18,
   "metadata": {},
   "outputs": [
    {
     "data": {
      "text/html": [
       "<div>\n",
       "<style scoped>\n",
       "    .dataframe tbody tr th:only-of-type {\n",
       "        vertical-align: middle;\n",
       "    }\n",
       "\n",
       "    .dataframe tbody tr th {\n",
       "        vertical-align: top;\n",
       "    }\n",
       "\n",
       "    .dataframe thead th {\n",
       "        text-align: right;\n",
       "    }\n",
       "</style>\n",
       "<table border=\"1\" class=\"dataframe\">\n",
       "  <thead>\n",
       "    <tr style=\"text-align: right;\">\n",
       "      <th></th>\n",
       "      <th>model</th>\n",
       "      <th>C</th>\n",
       "      <th>degree</th>\n",
       "      <th>train_accuracy</th>\n",
       "      <th>test_accuracy</th>\n",
       "      <th>mse</th>\n",
       "      <th>r2</th>\n",
       "    </tr>\n",
       "  </thead>\n",
       "  <tbody>\n",
       "    <tr>\n",
       "      <th>0</th>\n",
       "      <td>LinearSVR</td>\n",
       "      <td>0.1</td>\n",
       "      <td>2</td>\n",
       "      <td>0.218719</td>\n",
       "      <td>0.190783</td>\n",
       "      <td>1.301898</td>\n",
       "      <td>0.190783</td>\n",
       "    </tr>\n",
       "    <tr>\n",
       "      <th>2</th>\n",
       "      <td>LinearSVR</td>\n",
       "      <td>0.1</td>\n",
       "      <td>4</td>\n",
       "      <td>0.218719</td>\n",
       "      <td>0.190783</td>\n",
       "      <td>1.301898</td>\n",
       "      <td>0.190783</td>\n",
       "    </tr>\n",
       "    <tr>\n",
       "      <th>3</th>\n",
       "      <td>LinearSVR</td>\n",
       "      <td>0.1</td>\n",
       "      <td>5</td>\n",
       "      <td>0.218719</td>\n",
       "      <td>0.190783</td>\n",
       "      <td>1.301898</td>\n",
       "      <td>0.190783</td>\n",
       "    </tr>\n",
       "    <tr>\n",
       "      <th>4</th>\n",
       "      <td>LinearSVR</td>\n",
       "      <td>0.1</td>\n",
       "      <td>6</td>\n",
       "      <td>0.218719</td>\n",
       "      <td>0.190783</td>\n",
       "      <td>1.301898</td>\n",
       "      <td>0.190783</td>\n",
       "    </tr>\n",
       "    <tr>\n",
       "      <th>5</th>\n",
       "      <td>LinearSVR</td>\n",
       "      <td>0.1</td>\n",
       "      <td>7</td>\n",
       "      <td>0.218719</td>\n",
       "      <td>0.190783</td>\n",
       "      <td>1.301898</td>\n",
       "      <td>0.190783</td>\n",
       "    </tr>\n",
       "  </tbody>\n",
       "</table>\n",
       "</div>"
      ],
      "text/plain": [
       "       model    C  degree  train_accuracy  test_accuracy       mse        r2\n",
       "0  LinearSVR  0.1       2        0.218719       0.190783  1.301898  0.190783\n",
       "2  LinearSVR  0.1       4        0.218719       0.190783  1.301898  0.190783\n",
       "3  LinearSVR  0.1       5        0.218719       0.190783  1.301898  0.190783\n",
       "4  LinearSVR  0.1       6        0.218719       0.190783  1.301898  0.190783\n",
       "5  LinearSVR  0.1       7        0.218719       0.190783  1.301898  0.190783"
      ]
     },
     "execution_count": 18,
     "metadata": {},
     "output_type": "execute_result"
    }
   ],
   "source": [
    "cols = ['model','C','degree','train_accuracy', 'test_accuracy','mse','r2']\n",
    "lsvc_pd = pd.DataFrame(lsvc_results, columns = cols )\n",
    "lsvc_pd.sort_values(by='r2',ascending=False).head(5)"
   ]
  },
  {
   "cell_type": "code",
   "execution_count": 19,
   "metadata": {},
   "outputs": [
    {
     "data": {
      "text/plain": [
       "Text(0.5, 1.0, 'Model r2 by \\nC & kernel')"
      ]
     },
     "execution_count": 19,
     "metadata": {},
     "output_type": "execute_result"
    },
    {
     "data": {
      "image/png": "[encoded data removed]",
      "text/plain": [
       "<Figure size 576x360 with 1 Axes>"
      ]
     },
     "metadata": {},
     "output_type": "display_data"
    }
   ],
   "source": [
    "%matplotlib inline\n",
    "sns.set_style(\"whitegrid\")\n",
    "sns.set_context(\"paper\")\n",
    "plt.figure(figsize=(8, 5))\n",
    "\n",
    "sns.lineplot(x='C', y='r2', hue='degree',data = lsvc_pd   )\\\n",
    ".set_title('Model r2 by \\nC & kernel')"
   ]
  },
  {
   "cell_type": "markdown",
   "metadata": {},
   "source": [
    "#### Radial Basis Function SVR"
   ]
  },
  {
   "cell_type": "code",
   "execution_count": 20,
   "metadata": {
    "collapsed": true
   },
   "outputs": [],
   "source": [
    "degrees = [i for i in range(2,9)]\n",
    "cs = [10**exp for exp in range(-8, 2)]\n",
    "rsvc_results = []\n",
    "for c in cs:\n",
    "    if c != 0:\n",
    "        for d in degrees:\n",
    "            params = {'C':c, 'kernel':'rbf','gamma':'auto', 'degree':d}\n",
    "            model = SVR(**params)\n",
    "            fitted_model = model.fit(X_train, Y_train)\n",
    "            train_accuracy, test_accuracy, test_mse, test_r2 = RegressorMetrics(X_train, Y_train, X_test, Y_test,  fitted_model)\n",
    "            results = ('rbfSVR', c, d, train_accuracy, test_accuracy, test_mse, test_r2)\n",
    "            rsvc_results.append(results)"
   ]
  },
  {
   "cell_type": "code",
   "execution_count": 21,
   "metadata": {},
   "outputs": [
    {
     "data": {
      "text/html": [
       "<div>\n",
       "<style scoped>\n",
       "    .dataframe tbody tr th:only-of-type {\n",
       "        vertical-align: middle;\n",
       "    }\n",
       "\n",
       "    .dataframe tbody tr th {\n",
       "        vertical-align: top;\n",
       "    }\n",
       "\n",
       "    .dataframe thead th {\n",
       "        text-align: right;\n",
       "    }\n",
       "</style>\n",
       "<table border=\"1\" class=\"dataframe\">\n",
       "  <thead>\n",
       "    <tr style=\"text-align: right;\">\n",
       "      <th></th>\n",
       "      <th>model</th>\n",
       "      <th>C</th>\n",
       "      <th>degree</th>\n",
       "      <th>train_accuracy</th>\n",
       "      <th>test_accuracy</th>\n",
       "      <th>mse</th>\n",
       "      <th>r2</th>\n",
       "    </tr>\n",
       "  </thead>\n",
       "  <tbody>\n",
       "    <tr>\n",
       "      <th>69</th>\n",
       "      <td>rbfSVR</td>\n",
       "      <td>10.0</td>\n",
       "      <td>8</td>\n",
       "      <td>0.252793</td>\n",
       "      <td>0.199106</td>\n",
       "      <td>1.288507</td>\n",
       "      <td>0.199106</td>\n",
       "    </tr>\n",
       "    <tr>\n",
       "      <th>68</th>\n",
       "      <td>rbfSVR</td>\n",
       "      <td>10.0</td>\n",
       "      <td>7</td>\n",
       "      <td>0.252793</td>\n",
       "      <td>0.199106</td>\n",
       "      <td>1.288507</td>\n",
       "      <td>0.199106</td>\n",
       "    </tr>\n",
       "    <tr>\n",
       "      <th>67</th>\n",
       "      <td>rbfSVR</td>\n",
       "      <td>10.0</td>\n",
       "      <td>6</td>\n",
       "      <td>0.252793</td>\n",
       "      <td>0.199106</td>\n",
       "      <td>1.288507</td>\n",
       "      <td>0.199106</td>\n",
       "    </tr>\n",
       "    <tr>\n",
       "      <th>66</th>\n",
       "      <td>rbfSVR</td>\n",
       "      <td>10.0</td>\n",
       "      <td>5</td>\n",
       "      <td>0.252793</td>\n",
       "      <td>0.199106</td>\n",
       "      <td>1.288507</td>\n",
       "      <td>0.199106</td>\n",
       "    </tr>\n",
       "    <tr>\n",
       "      <th>65</th>\n",
       "      <td>rbfSVR</td>\n",
       "      <td>10.0</td>\n",
       "      <td>4</td>\n",
       "      <td>0.252793</td>\n",
       "      <td>0.199106</td>\n",
       "      <td>1.288507</td>\n",
       "      <td>0.199106</td>\n",
       "    </tr>\n",
       "  </tbody>\n",
       "</table>\n",
       "</div>"
      ],
      "text/plain": [
       "     model     C  degree  train_accuracy  test_accuracy       mse        r2\n",
       "69  rbfSVR  10.0       8        0.252793       0.199106  1.288507  0.199106\n",
       "68  rbfSVR  10.0       7        0.252793       0.199106  1.288507  0.199106\n",
       "67  rbfSVR  10.0       6        0.252793       0.199106  1.288507  0.199106\n",
       "66  rbfSVR  10.0       5        0.252793       0.199106  1.288507  0.199106\n",
       "65  rbfSVR  10.0       4        0.252793       0.199106  1.288507  0.199106"
      ]
     },
     "execution_count": 21,
     "metadata": {},
     "output_type": "execute_result"
    }
   ],
   "source": [
    "cols = ['model','C','degree','train_accuracy', 'test_accuracy','mse','r2']\n",
    "rsvc_pd = pd.DataFrame(rsvc_results, columns = cols )\n",
    "rsvc_pd.sort_values(by='r2',ascending=False).head(5)"
   ]
  },
  {
   "cell_type": "code",
   "execution_count": 22,
   "metadata": {
    "scrolled": true
   },
   "outputs": [
    {
     "data": {
      "text/plain": [
       "Text(0.5, 1.0, 'Model r2 by \\nC & kernel')"
      ]
     },
     "execution_count": 22,
     "metadata": {},
     "output_type": "execute_result"
    },
    {
     "data": {
      "image/png": "[encoded data removed]",
      "text/plain": [
       "<Figure size 576x360 with 1 Axes>"
      ]
     },
     "metadata": {},
     "output_type": "display_data"
    }
   ],
   "source": [
    "%matplotlib inline\n",
    "sns.set_style(\"whitegrid\")\n",
    "sns.set_context(\"paper\")\n",
    "plt.figure(figsize=(8, 5))\n",
    "\n",
    "sns.lineplot(x='C', y='r2', hue='degree',data = rsvc_pd)\\\n",
    ".set_title('Model r2 by \\nC & kernel')"
   ]
  },
  {
   "cell_type": "markdown",
   "metadata": {},
   "source": [
    "#### Random Forest Regressor"
   ]
  },
  {
   "cell_type": "code",
   "execution_count": null,
   "metadata": {
    "collapsed": true
   },
   "outputs": [],
   "source": [
    "params = {'n_estimators': n, 'criterion':'mse', \n",
    "          'max_depth': d, 'min_samples_split': s, \n",
    "          'min_samples_leaf':l, 'random_state': 519}"
   ]
  },
  {
   "cell_type": "markdown",
   "metadata": {},
   "source": [
    "### Comparing the Best Models "
   ]
  },
  {
   "cell_type": "code",
   "execution_count": 30,
   "metadata": {},
   "outputs": [
    {
     "data": {
      "text/html": [
       "<div>\n",
       "<style scoped>\n",
       "    .dataframe tbody tr th:only-of-type {\n",
       "        vertical-align: middle;\n",
       "    }\n",
       "\n",
       "    .dataframe tbody tr th {\n",
       "        vertical-align: top;\n",
       "    }\n",
       "\n",
       "    .dataframe thead th {\n",
       "        text-align: right;\n",
       "    }\n",
       "</style>\n",
       "<table border=\"1\" class=\"dataframe\">\n",
       "  <thead>\n",
       "    <tr style=\"text-align: right;\">\n",
       "      <th></th>\n",
       "      <th>model</th>\n",
       "      <th>mse</th>\n",
       "      <th>r2</th>\n",
       "    </tr>\n",
       "  </thead>\n",
       "  <tbody>\n",
       "    <tr>\n",
       "      <th>15</th>\n",
       "      <td>Lasso</td>\n",
       "      <td>1.305296</td>\n",
       "      <td>0.18867</td>\n",
       "    </tr>\n",
       "  </tbody>\n",
       "</table>\n",
       "</div>"
      ],
      "text/plain": [
       "    model       mse       r2\n",
       "15  Lasso  1.305296  0.18867"
      ]
     },
     "execution_count": 30,
     "metadata": {},
     "output_type": "execute_result"
    }
   ],
   "source": [
    "lasso_pd[lasso_pd['mse'] == lasso_pd['mse'].min()][['model','mse','r2']]"
   ]
  },
  {
   "cell_type": "code",
   "execution_count": 31,
   "metadata": {},
   "outputs": [
    {
     "data": {
      "text/html": [
       "<div>\n",
       "<style scoped>\n",
       "    .dataframe tbody tr th:only-of-type {\n",
       "        vertical-align: middle;\n",
       "    }\n",
       "\n",
       "    .dataframe tbody tr th {\n",
       "        vertical-align: top;\n",
       "    }\n",
       "\n",
       "    .dataframe thead th {\n",
       "        text-align: right;\n",
       "    }\n",
       "</style>\n",
       "<table border=\"1\" class=\"dataframe\">\n",
       "  <thead>\n",
       "    <tr style=\"text-align: right;\">\n",
       "      <th></th>\n",
       "      <th>model</th>\n",
       "      <th>mse</th>\n",
       "      <th>r2</th>\n",
       "    </tr>\n",
       "  </thead>\n",
       "  <tbody>\n",
       "    <tr>\n",
       "      <th>12</th>\n",
       "      <td>ElasticNet</td>\n",
       "      <td>1.304431</td>\n",
       "      <td>0.189208</td>\n",
       "    </tr>\n",
       "  </tbody>\n",
       "</table>\n",
       "</div>"
      ],
      "text/plain": [
       "         model       mse        r2\n",
       "12  ElasticNet  1.304431  0.189208"
      ]
     },
     "execution_count": 31,
     "metadata": {},
     "output_type": "execute_result"
    }
   ],
   "source": [
    "en_pd[en_pd['mse'] == en_pd['mse'].min()][['model','mse','r2']]"
   ]
  },
  {
   "cell_type": "code",
   "execution_count": 32,
   "metadata": {},
   "outputs": [
    {
     "data": {
      "text/html": [
       "<div>\n",
       "<style scoped>\n",
       "    .dataframe tbody tr th:only-of-type {\n",
       "        vertical-align: middle;\n",
       "    }\n",
       "\n",
       "    .dataframe tbody tr th {\n",
       "        vertical-align: top;\n",
       "    }\n",
       "\n",
       "    .dataframe thead th {\n",
       "        text-align: right;\n",
       "    }\n",
       "</style>\n",
       "<table border=\"1\" class=\"dataframe\">\n",
       "  <thead>\n",
       "    <tr style=\"text-align: right;\">\n",
       "      <th></th>\n",
       "      <th>model</th>\n",
       "      <th>mse</th>\n",
       "      <th>r2</th>\n",
       "    </tr>\n",
       "  </thead>\n",
       "  <tbody>\n",
       "    <tr>\n",
       "      <th>63</th>\n",
       "      <td>rbfSVR</td>\n",
       "      <td>1.288507</td>\n",
       "      <td>0.199106</td>\n",
       "    </tr>\n",
       "    <tr>\n",
       "      <th>64</th>\n",
       "      <td>rbfSVR</td>\n",
       "      <td>1.288507</td>\n",
       "      <td>0.199106</td>\n",
       "    </tr>\n",
       "    <tr>\n",
       "      <th>65</th>\n",
       "      <td>rbfSVR</td>\n",
       "      <td>1.288507</td>\n",
       "      <td>0.199106</td>\n",
       "    </tr>\n",
       "    <tr>\n",
       "      <th>66</th>\n",
       "      <td>rbfSVR</td>\n",
       "      <td>1.288507</td>\n",
       "      <td>0.199106</td>\n",
       "    </tr>\n",
       "    <tr>\n",
       "      <th>67</th>\n",
       "      <td>rbfSVR</td>\n",
       "      <td>1.288507</td>\n",
       "      <td>0.199106</td>\n",
       "    </tr>\n",
       "    <tr>\n",
       "      <th>68</th>\n",
       "      <td>rbfSVR</td>\n",
       "      <td>1.288507</td>\n",
       "      <td>0.199106</td>\n",
       "    </tr>\n",
       "    <tr>\n",
       "      <th>69</th>\n",
       "      <td>rbfSVR</td>\n",
       "      <td>1.288507</td>\n",
       "      <td>0.199106</td>\n",
       "    </tr>\n",
       "  </tbody>\n",
       "</table>\n",
       "</div>"
      ],
      "text/plain": [
       "     model       mse        r2\n",
       "63  rbfSVR  1.288507  0.199106\n",
       "64  rbfSVR  1.288507  0.199106\n",
       "65  rbfSVR  1.288507  0.199106\n",
       "66  rbfSVR  1.288507  0.199106\n",
       "67  rbfSVR  1.288507  0.199106\n",
       "68  rbfSVR  1.288507  0.199106\n",
       "69  rbfSVR  1.288507  0.199106"
      ]
     },
     "execution_count": 32,
     "metadata": {},
     "output_type": "execute_result"
    }
   ],
   "source": [
    "rsvc_pd[rsvc_pd['mse'] == rsvc_pd['mse'].min()][['model','mse','r2']]"
   ]
  },
  {
   "cell_type": "code",
   "execution_count": 33,
   "metadata": {},
   "outputs": [
    {
     "data": {
      "text/html": [
       "<div>\n",
       "<style scoped>\n",
       "    .dataframe tbody tr th:only-of-type {\n",
       "        vertical-align: middle;\n",
       "    }\n",
       "\n",
       "    .dataframe tbody tr th {\n",
       "        vertical-align: top;\n",
       "    }\n",
       "\n",
       "    .dataframe thead th {\n",
       "        text-align: right;\n",
       "    }\n",
       "</style>\n",
       "<table border=\"1\" class=\"dataframe\">\n",
       "  <thead>\n",
       "    <tr style=\"text-align: right;\">\n",
       "      <th></th>\n",
       "      <th>model</th>\n",
       "      <th>mse</th>\n",
       "      <th>r2</th>\n",
       "    </tr>\n",
       "  </thead>\n",
       "  <tbody>\n",
       "    <tr>\n",
       "      <th>0</th>\n",
       "      <td>LinearSVR</td>\n",
       "      <td>1.301898</td>\n",
       "      <td>0.190783</td>\n",
       "    </tr>\n",
       "    <tr>\n",
       "      <th>1</th>\n",
       "      <td>LinearSVR</td>\n",
       "      <td>1.301898</td>\n",
       "      <td>0.190783</td>\n",
       "    </tr>\n",
       "    <tr>\n",
       "      <th>2</th>\n",
       "      <td>LinearSVR</td>\n",
       "      <td>1.301898</td>\n",
       "      <td>0.190783</td>\n",
       "    </tr>\n",
       "    <tr>\n",
       "      <th>3</th>\n",
       "      <td>LinearSVR</td>\n",
       "      <td>1.301898</td>\n",
       "      <td>0.190783</td>\n",
       "    </tr>\n",
       "    <tr>\n",
       "      <th>4</th>\n",
       "      <td>LinearSVR</td>\n",
       "      <td>1.301898</td>\n",
       "      <td>0.190783</td>\n",
       "    </tr>\n",
       "    <tr>\n",
       "      <th>5</th>\n",
       "      <td>LinearSVR</td>\n",
       "      <td>1.301898</td>\n",
       "      <td>0.190783</td>\n",
       "    </tr>\n",
       "    <tr>\n",
       "      <th>6</th>\n",
       "      <td>LinearSVR</td>\n",
       "      <td>1.301898</td>\n",
       "      <td>0.190783</td>\n",
       "    </tr>\n",
       "  </tbody>\n",
       "</table>\n",
       "</div>"
      ],
      "text/plain": [
       "       model       mse        r2\n",
       "0  LinearSVR  1.301898  0.190783\n",
       "1  LinearSVR  1.301898  0.190783\n",
       "2  LinearSVR  1.301898  0.190783\n",
       "3  LinearSVR  1.301898  0.190783\n",
       "4  LinearSVR  1.301898  0.190783\n",
       "5  LinearSVR  1.301898  0.190783\n",
       "6  LinearSVR  1.301898  0.190783"
      ]
     },
     "execution_count": 33,
     "metadata": {},
     "output_type": "execute_result"
    }
   ],
   "source": [
    "lsvc_pd[lsvc_pd['mse'] == lsvc_pd['mse'].min()][['model','mse','r2']]"
   ]
  },
  {
   "cell_type": "code",
   "execution_count": null,
   "metadata": {
    "collapsed": true
   },
   "outputs": [],
   "source": []
  }
 ],
 "metadata": {
  "kernelspec": {
   "display_name": "Python 3",
   "language": "python",
   "name": "python3"
  },
  "language_info": {
   "codemirror_mode": {
    "name": "ipython",
    "version": 3
   },
   "file_extension": ".py",
   "mimetype": "text/x-python",
   "name": "python",
   "nbconvert_exporter": "python",
   "pygments_lexer": "ipython3",
   "version": "3.6.1"
  }
 },
 "nbformat": 4,
 "nbformat_minor": 2
}
