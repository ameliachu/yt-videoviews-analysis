{
 "cells": [
  {
   "cell_type": "markdown",
   "metadata": {},
   "source": [
    "#### Overview\n",
    "\n",
    "This notebook (1) identifies the topics associated with each video as defined by the previous notebook(s), (2) determines the feature importance of the remaining 'topic-less' tags (3) creates the final csv that will be used for modelling and analysis. "
   ]
  },
  {
   "cell_type": "markdown",
   "metadata": {},
   "source": [
    "#### Import Libraries and UDFs"
   ]
  },
  {
   "cell_type": "code",
   "execution_count": 1,
   "metadata": {
    "collapsed": true
   },
   "outputs": [],
   "source": [
    "import pandas as pd\n",
    "import numpy as np\n",
    "import pickle\n",
    "from ast import literal_eval"
   ]
  },
  {
   "cell_type": "code",
   "execution_count": 2,
   "metadata": {
    "collapsed": true
   },
   "outputs": [],
   "source": [
    "directory = '../../YouTube Video View Analysis/'\n",
    "\n",
    "def load_obj(fname):\n",
    "    # This loads the pickled object.\n",
    "    with open(directory + fname + '.pkl', 'rb') as f:\n",
    "        return pickle.load(f)   \n",
    "\n",
    "# -- UDFs for Final Table --\n",
    "def getViralIndicator(value):\n",
    "    if value >= 1000000:\n",
    "        return 1\n",
    "    else:\n",
    "        return 0\n",
    "\n",
    "def flagTopic(tags, topic):\n",
    "    flag = [t for t in tags if t in topics[topic]]\n",
    "    if len(flag) > 0:\n",
    "        return 1\n",
    "    else:\n",
    "        return 0"
   ]
  },
  {
   "cell_type": "markdown",
   "metadata": {},
   "source": [
    "#### Load in Classified Tags"
   ]
  },
  {
   "cell_type": "code",
   "execution_count": 3,
   "metadata": {
    "collapsed": true
   },
   "outputs": [],
   "source": [
    "tags_to_remove = ['motivationalspeechyoutuberedoriginalseries','pl5vtqduum1dmy4t5c_7dycem1zxdkozqq', 'pl5vtqduum1dk_eerei21fzkdndz2ljysh', 'bfvideo', 'bfv', 'apple']\n",
    "tags_to_consolidate = {('cute', 'cuteness(websitecategory)'), ('valentines', 'valentine', 'valentine’sday')}"
   ]
  },
  {
   "cell_type": "code",
   "execution_count": 4,
   "metadata": {
    "collapsed": true
   },
   "outputs": [],
   "source": [
    "topics = load_obj('data/consolidated-topic-dictionary')\n",
    "topics_misc = list(set(topics['misc']))"
   ]
  },
  {
   "cell_type": "markdown",
   "metadata": {},
   "source": [
    "#### Load in Tabular BuzzFeed YouTube Data"
   ]
  },
  {
   "cell_type": "code",
   "execution_count": 5,
   "metadata": {},
   "outputs": [
    {
     "name": "stderr",
     "output_type": "stream",
     "text": [
      "/Users/chuamelia/anaconda/envs/py35/lib/python3.6/site-packages/ipykernel_launcher.py:16: SettingWithCopyWarning: \n",
      "A value is trying to be set on a copy of a slice from a DataFrame.\n",
      "Try using .loc[row_indexer,col_indexer] = value instead\n",
      "\n",
      "See the caveats in the documentation: http://pandas.pydata.org/pandas-docs/stable/user_guide/indexing.html#returning-a-view-versus-a-copy\n",
      "  app.launch_new_instance()\n"
     ]
    }
   ],
   "source": [
    "# Tabluar BuzzFeed YouTube Data\n",
    "data_csv_fname = \"../data/bzfd_data.csv\"\n",
    "bzfd_df = pd.read_csv(data_csv_fname, sep=',')\n",
    "\n",
    "# Adding / Processing Columns \n",
    "bzfd_df['processedTags'] = bzfd_df['processedTags'].apply(lambda x: literal_eval(x))\n",
    "bzfd_df['logViewCount'] = bzfd_df['viewCount'].apply(lambda x: np.log(x))\n",
    "bzfd_df['logDurationInSeconds'] = bzfd_df['durationInSeconds'].apply(lambda x: np.log(x))\n",
    "bzfd_df['logSecondsSincePublished'] = bzfd_df['secondsSincePublished'].apply(lambda x: np.log(x))\n",
    "for topic in [t for t in topics.keys() if t != 'misc']:\n",
    "    bzfd_df[topic] = bzfd_df['processedTags'].apply(lambda x: flagTopic(x, topic) )\n",
    "\n",
    "# Dummy Table for Tags    \n",
    "dummies = pd.read_csv('../data/tags_as_dummies_comma.csv', sep=',')\n",
    "additional_tags = dummies[['videoId', 'viewCount', 'logViewCount'] + topics_misc]\n",
    "additional_tags['viralIndicator'] = additional_tags['viewCount'].apply(lambda x:  getViralIndicator(x))"
   ]
  },
  {
   "cell_type": "markdown",
   "metadata": {},
   "source": [
    "#### Create Decision Tree Classfier to Select Remaining Tags"
   ]
  },
  {
   "cell_type": "code",
   "execution_count": 6,
   "metadata": {
    "collapsed": true
   },
   "outputs": [],
   "source": [
    "from sklearn.model_selection import cross_val_score\n",
    "from sklearn.tree import DecisionTreeClassifier\n",
    "\n",
    "clf = DecisionTreeClassifier(criterion='entropy')\n",
    "x = additional_tags[topics_misc]\n",
    "y = additional_tags['viralIndicator']\n",
    "\n",
    "cross_val_score(clf, x, y, cv=10)\n",
    "model = clf.fit(x, y)"
   ]
  },
  {
   "cell_type": "code",
   "execution_count": 7,
   "metadata": {
    "collapsed": true
   },
   "outputs": [],
   "source": [
    "feature_names = topics_misc\n",
    "\n",
    "feature_importance = list(model.feature_importances_)\n",
    "\n",
    "f_rank = pd.DataFrame\\\n",
    ".from_dict({'features': feature_names, \n",
    "            'importance': feature_importance})\\\n",
    ".sort_values(by='importance', ascending=True)"
   ]
  },
  {
   "cell_type": "code",
   "execution_count": 8,
   "metadata": {},
   "outputs": [
    {
     "data": {
      "text/plain": [
       "<matplotlib.axes._subplots.AxesSubplot at 0x1625cb0f0>"
      ]
     },
     "execution_count": 8,
     "metadata": {},
     "output_type": "execute_result"
    },
    {
     "data": {
      "image/png": "[encoded data removed]",
      "text/plain": [
       "<Figure size 576x288 with 1 Axes>"
      ]
     },
     "metadata": {},
     "output_type": "display_data"
    }
   ],
   "source": [
    "%matplotlib inline \n",
    "import seaborn as sns\n",
    "import matplotlib.pyplot as plt\n",
    "fig, ax = plt.subplots(figsize=(8,4))\n",
    "ax = sns.barplot(x='features', y='importance', data=f_rank[f_rank['importance']>0.003])\n",
    "plt.setp(ax.get_xticklabels(), rotation=45)\n",
    "ax"
   ]
  },
  {
   "cell_type": "code",
   "execution_count": 9,
   "metadata": {},
   "outputs": [
    {
     "data": {
      "text/plain": [
       "25"
      ]
     },
     "execution_count": 9,
     "metadata": {},
     "output_type": "execute_result"
    }
   ],
   "source": [
    "num_topics= [c for c in topics.keys() if c != 'misc']\n",
    "len(num_topics)"
   ]
  },
  {
   "cell_type": "code",
   "execution_count": 10,
   "metadata": {},
   "outputs": [
    {
     "data": {
      "text/plain": [
       "540"
      ]
     },
     "execution_count": 10,
     "metadata": {},
     "output_type": "execute_result"
    }
   ],
   "source": [
    "len(f_rank)"
   ]
  },
  {
   "cell_type": "code",
   "execution_count": 11,
   "metadata": {
    "collapsed": true
   },
   "outputs": [],
   "source": [
    "# Include # of Tags so that we have no more than 100 features\n",
    "n_additional_features = 100 - len(num_topics)\n",
    "sorted_remaining_features = f_rank.sort_values(by='importance', ascending=False)[:n_additional_features]"
   ]
  },
  {
   "cell_type": "markdown",
   "metadata": {},
   "source": [
    "#### Export Final Table for Analysis & Modelling"
   ]
  },
  {
   "cell_type": "code",
   "execution_count": 12,
   "metadata": {
    "collapsed": true
   },
   "outputs": [],
   "source": [
    "add_features = sorted_remaining_features['features'].tolist()"
   ]
  },
  {
   "cell_type": "code",
   "execution_count": 13,
   "metadata": {
    "collapsed": true
   },
   "outputs": [],
   "source": [
    "final_bzfd_df = pd.merge(bzfd_df, dummies[['videoId']+add_features], left_on='videoId', right_on='videoId')"
   ]
  },
  {
   "cell_type": "code",
   "execution_count": 34,
   "metadata": {
    "collapsed": true
   },
   "outputs": [],
   "source": [
    "final_bzfd_df.to_csv(directory + 'data/finalized_bzfd_data.csv', sep=',')"
   ]
  },
  {
   "cell_type": "code",
   "execution_count": 14,
   "metadata": {},
   "outputs": [
    {
     "name": "stdout",
     "output_type": "stream",
     "text": [
      "6418 6418\n"
     ]
    }
   ],
   "source": [
    "print(len(bzfd_df), len(final_bzfd_df ))"
   ]
  }
 ],
 "metadata": {
  "kernelspec": {
   "display_name": "Python 3",
   "language": "python",
   "name": "python3"
  },
  "language_info": {
   "codemirror_mode": {
    "name": "ipython",
    "version": 3
   },
   "file_extension": ".py",
   "mimetype": "text/x-python",
   "name": "python",
   "nbconvert_exporter": "python",
   "pygments_lexer": "ipython3",
   "version": "3.6.1"
  }
 },
 "nbformat": 4,
 "nbformat_minor": 2
}
